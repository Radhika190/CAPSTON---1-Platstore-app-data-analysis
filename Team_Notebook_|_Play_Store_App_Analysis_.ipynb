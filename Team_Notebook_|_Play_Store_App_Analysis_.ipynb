{
  "nbformat": 4,
  "nbformat_minor": 0,
  "metadata": {
    "colab": {
      "private_outputs": true,
      "provenance": [],
      "collapsed_sections": [
        "K5QZ13OEpz2H",
        "lQ7QKXXCp7Bj",
        "448CDAPjqfQr",
        "t6dVpIINYklI",
        "ijmpgYnKYklI",
        "-JiQyfWJYklI",
        "fge-S5ZAYoAp",
        "85gYPyotYoAp",
        "RoGjAbkUYoAp",
        "iky9q4vBYrdO",
        "F6T5p64dYrdO",
        "y-Ehk30pYrdP",
        "QHF8YVU7Yuh3",
        "GwzvFGzlYuh3",
        "qYpmQ266Yuh3",
        "bbFf2-_FphqN",
        "_ouA3fa0phqN",
        "Seke61FWphqN",
        "t27r6nlMphqO",
        "r2jJGEOYphqO",
        "b0JNsNcRphqO",
        "jj7wYXLtphqO",
        "eZrbJ2SmphqO",
        "rFu4xreNphqO",
        "gCFgpxoyphqP",
        "OVtJsKN_phqQ",
        "lssrdh5qphqQ",
        "U2RJ9gkRphqQ",
        "1M8mcRywphqQ",
        "tgIPom80phqQ",
        "JMzcOPDDphqR",
        "x-EpHcCOp1ci",
        "X_VqEhTip1ck",
        "8zGJKyg5p1ck",
        "PVzmfK_Ep1ck",
        "n3dbpmDWp1ck",
        "ylSl6qgtp1ck",
        "ZWILFDl5p1ck",
        "M7G43BXep1ck",
        "Ag9LCva-p1cl",
        "E6MkPsBcp1cl",
        "2cELzS2fp1cl",
        "3MPXvC8up1cl",
        "NC_X3p0fY2L0",
        "UV0SzAkaZNRQ",
        "YPEH6qLeZNRQ",
        "q29F0dvdveiT",
        "EXh0U9oCveiU",
        "22aHeOlLveiV",
        "JcMwzZxoAimU",
        "8G2x9gOozGDZ",
        "gCX9965dhzqZ",
        "gIfDvo9L0UH2"
      ],
      "include_colab_link": true
    },
    "kernelspec": {
      "name": "python3",
      "display_name": "Python 3"
    },
    "language_info": {
      "name": "python"
    }
  },
  "cells": [
    {
      "cell_type": "markdown",
      "metadata": {
        "id": "view-in-github",
        "colab_type": "text"
      },
      "source": [
        "<a href=\"https://colab.research.google.com/github/Radhika190/CAPSTONE-PROJECT-1-Playstore-app-review-data-analysis/blob/main/Team_Notebook_%7C_Play_Store_App_Analysis_.ipynb\" target=\"_parent\"><img src=\"https://colab.research.google.com/assets/colab-badge.svg\" alt=\"Open In Colab\"/></a>"
      ]
    },
    {
      "cell_type": "markdown",
      "source": [
        "# **Project Name**    -   \n",
        "*GOOGLE PLAY STORE APP ANALYSIS* \n",
        "\n"
      ],
      "metadata": {
        "id": "vncDsAP0Gaoa"
      }
    },
    {
      "cell_type": "markdown",
      "source": [
        "##### **Project Type**    - EDA(Exploratory Data Analysis) Capstone Project \n",
        "##### **Contribution**    - Team \n",
        "##### **Team Member 1 -**  TIRTHA BOSE\n",
        "##### **Team Member 2 -** RADHIKA DWIVEDI\n"
      ],
      "metadata": {
        "id": "beRrZCGUAJYm"
      }
    },
    {
      "cell_type": "markdown",
      "source": [
        "# **Project Summary -**"
      ],
      "metadata": {
        "id": "FJNUwmbgGyua"
      }
    },
    {
      "cell_type": "markdown",
      "source": [
        " **The Play Store apps data has enormous potential to drive app-making businesses to success. Actionable insights can be drawn for developers to work on and capture the Android market.** \n",
        "\n",
        "  **Each app (row) has values for catergory, rating, size, and more. Another dataset contains customer reviews of the android apps.**\n",
        "\n",
        "  **Explore and analyze the data to discover key factors responsible for app engagement and success.** \n",
        "\n",
        "\n",
        "**As we all know that nowadays android is being adopted by a lar[ge plopulation across the globe .According to state counter global statistics \"mobile operating system market share\" 79.27% of people are using android phone in all over the world market -'March 2023' , and thats why mobile applications are also increasing at a very high pace.**\n",
        "\n",
        "**As,these applications are easy to create and can be money making , hence more and more applications are being developed.In this notebook we will analyze the Google Play Store data to gain insights about the app market and provide recommendations to help businesses achieve their objectives on the platform .The analysis will involve examination of various application attributes such as categories , rating , reviews, price, size, installs, and type.**\n",
        "\n",
        "**This analysis is done by our group of 2 members-TIRTHA BOSE , RADHIKA DWIVEDI .In this project we got two different Play_store_data_csv.file and User_Review_csv.file individually while exploring dataset using python libraries such as* \"NUMPY\" ,\"PANDA\" , \"SEABORN\" , \"MATPLOTLIB\" and \"MISSINGNO\"**\n",
        "\n",
        "\n",
        "**CONTRIBUTION OF EACH MEMBERS IN THE PROJECT IS GIVEN BELOW:-**\n",
        "\n",
        "**RADHIKA DWIVEDI** - In this project I have used python libraries (numpy, pandas)and its visualisation tool (missingno) which i have learned from our almabetter course to analyse the data of csv.file namely i)Play_store_data file , ii) User_Review file .While analysing this data I have faced some problem in cleaning null values and replacing numericals but with the help of my teammate and the course provided by almabetter makes it more easier for me . Then I have to understand the characteristics of both datasets using describe() method to know its numerical data that they have , like standard deviation ,mean , median, mode  and etc. After this I checked their uniqueness and get the number of unique element of that dataset and also changed their datatype if it required.\n",
        "\n",
        "**TIRTHA BOSE** - My role in this project starts from Data Wrangling and Data Visualisation . Here I tried my best to analysis my data which was a very challenging stuff but  with the help of my teamate and the course provide by almabetter makes it easier for me .While doing this data wrangling I have used different methods() to the values of data like \"value_count()\" , \"mean()\", median(), mode(), std(), sort() , sum(). Then I wrangle data according to the guideline of \"UBM\"(univariate analysis , bivariate ananlysis and multivariate analysis). After that i did the visualisation part by using tools like seaborn(sns), matplotlib.pyplot(plt.) , but it was very difficult for me to plot those graphs according to UBM guideline such that those graphs can justify its questions and also to those  who will see them. \n",
        "\n"
      ],
      "metadata": {
        "id": "F6v_1wHtG2nS"
      }
    },
    {
      "cell_type": "markdown",
      "source": [
        "# **GitHub Link -**"
      ],
      "metadata": {
        "id": "w6K7xa23Elo4"
      }
    },
    {
      "cell_type": "markdown",
      "source": [
        "Provide your GitHub Link here.\n",
        "\n",
        "\n",
        "Radhika dwevadi - https://github.com/Radhika190/CAPSTONE-PROJECT-1-Playstore-app-review-data-analysis\n",
        "\n",
        "\n",
        "Tirtha Bose -  https://github.com/tirtha2016/EDA_Capstone_project\n",
        "\n"
      ],
      "metadata": {
        "id": "h1o69JH3Eqqn"
      }
    },
    {
      "cell_type": "markdown",
      "source": [
        "# **Problem Statement**\n"
      ],
      "metadata": {
        "id": "yQaldy8SH6Dl"
      }
    },
    {
      "cell_type": "markdown",
      "source": [
        "### Some problems statements are given below :-\n",
        "  1.  Which are the top categories as per the analysis?\n",
        "  2.  As per content rating which app are ahead ?\n",
        "  3. What are the Majority of the apps paid or free ?\n",
        "  4. How are the apps distributed ?\n",
        "  5. what percentage of the apps are paid and free?\n",
        "  6.   What is the number of installs based on category ? \n",
        "  7.  Which category of apps were installed more ?\n",
        "  8. Is there any corelation between review and installs ?\n",
        "  9. Relationship between Rating and Average Reviews ?\n",
        "  10.  Is subjectivity and polarity proportional to each other?\n",
        "  11.  Is there is any corelation between rating , size, installs, reviews and price?\n",
        "  12. How is price trending across some categories?\n",
        "  "
      ],
      "metadata": {
        "id": "DpeJGUA3kjGy"
      }
    },
    {
      "cell_type": "markdown",
      "source": [
        "#### **Define Your Business Objective?**"
      ],
      "metadata": {
        "id": "PH-0ReGfmX4f"
      }
    },
    {
      "cell_type": "markdown",
      "source": [
        "The play store app data has enormous potential to drive app making business to sucess . Actionable insights can be drawnfor developers to work on and capture android market."
      ],
      "metadata": {
        "id": "PhDvGCAqmjP1"
      }
    },
    {
      "cell_type": "markdown",
      "source": [
        "# **General Guidelines** : -  "
      ],
      "metadata": {
        "id": "mDgbUHAGgjLW"
      }
    },
    {
      "cell_type": "markdown",
      "source": [
        "1.   Well-structured, formatted, and commented code is required. \n",
        "2.   Exception Handling, Production Grade Code & Deployment Ready Code will be a plus. Those students will be awarded some additional credits. \n",
        "     \n",
        "     The additional credits will have advantages over other students during Star Student selection.\n",
        "       \n",
        "             [ Note: - Deployment Ready Code is defined as, the whole .ipynb notebook should be executable in one go\n",
        "                       without a single error logged. ]\n",
        "\n",
        "3.   Each and every logic should have proper comments.\n",
        "4. You may add as many number of charts you want. Make Sure for each and every chart the following format should be answered.\n",
        "        \n",
        "\n",
        "```\n",
        "# Chart visualization code\n",
        "```\n",
        "            \n",
        "\n",
        "*   Why did you pick the specific chart?\n",
        "*   What is/are the insight(s) found from the chart?\n",
        "* Will the gained insights help creating a positive business impact? \n",
        "Are there any insights that lead to negative growth? Justify with specific reason.\n",
        "\n",
        "5. You have to create at least 20 logical & meaningful charts having important insights.\n",
        "\n",
        "\n",
        "[ Hints : - Do the Vizualization in  a structured way while following \"UBM\" Rule. \n",
        "\n",
        "U - Univariate Analysis,\n",
        "\n",
        "B - Bivariate Analysis (Numerical - Categorical, Numerical - Numerical, Categorical - Categorical)\n",
        "\n",
        "M - Multivariate Analysis\n",
        " ]\n",
        "\n",
        "\n",
        "\n"
      ],
      "metadata": {
        "id": "ZrxVaUj-hHfC"
      }
    },
    {
      "cell_type": "markdown",
      "source": [
        "# ***Let's Begin !***"
      ],
      "metadata": {
        "id": "O_i_v8NEhb9l"
      }
    },
    {
      "cell_type": "markdown",
      "source": [
        "## ***1. Know Your Data***"
      ],
      "metadata": {
        "id": "HhfV-JJviCcP"
      }
    },
    {
      "cell_type": "markdown",
      "source": [
        "### Import Libraries"
      ],
      "metadata": {
        "id": "Y3lxredqlCYt"
      }
    },
    {
      "cell_type": "code",
      "source": [
        "# Import Libraries\n",
        "import pandas as pd\n",
        "import numpy as np\n",
        "import seaborn as sns\n",
        "import matplotlib.pyplot as plt\n",
        "import missingno as msno\n",
        "%matplotlib inline"
      ],
      "metadata": {
        "id": "M8Vqi-pPk-HR"
      },
      "execution_count": null,
      "outputs": []
    },
    {
      "cell_type": "markdown",
      "source": [
        "### Dataset Loading"
      ],
      "metadata": {
        "id": "3RnN4peoiCZX"
      }
    },
    {
      "cell_type": "code",
      "source": [
        "# Load Dataset for mounting the drive\n",
        "from google.colab import drive\n",
        "drive.mount('/content/drive')\n"
      ],
      "metadata": {
        "id": "4CkvbW_SlZ_R"
      },
      "execution_count": null,
      "outputs": []
    },
    {
      "cell_type": "code",
      "source": [
        "# Loading csv.file play_store_data \n",
        "df_ps = pd.read_csv('/content/drive/MyDrive/Capstone project google play store analysis/Play Store Data.csv')"
      ],
      "metadata": {
        "id": "-N70fh-YEAyK"
      },
      "execution_count": null,
      "outputs": []
    },
    {
      "cell_type": "code",
      "source": [
        "# Loading csv.file User_review_\n",
        "df_rev = pd.read_csv('/content/drive/MyDrive/Capstone project google play store analysis/User Reviews.csv')"
      ],
      "metadata": {
        "id": "LiZbq_o9EGns"
      },
      "execution_count": null,
      "outputs": []
    },
    {
      "cell_type": "markdown",
      "source": [
        "### Dataset First View"
      ],
      "metadata": {
        "id": "x71ZqKXriCWQ"
      }
    },
    {
      "cell_type": "code",
      "source": [
        "# top 5 records of play_store_data \n",
        "df_ps.head()"
      ],
      "metadata": {
        "id": "LWNFOSvLl09H"
      },
      "execution_count": null,
      "outputs": []
    },
    {
      "cell_type": "code",
      "source": [
        "# bottom 5 records of play_store_data\n",
        "df_ps.tail()"
      ],
      "metadata": {
        "id": "mOfhnLKFG4JL"
      },
      "execution_count": null,
      "outputs": []
    },
    {
      "cell_type": "code",
      "source": [
        "# top 5 records of user_review_file\n",
        "df_rev.head()"
      ],
      "metadata": {
        "id": "54vwQ98fG6aJ"
      },
      "execution_count": null,
      "outputs": []
    },
    {
      "cell_type": "code",
      "source": [
        "# Bottom 5 records of user_review_file\n",
        "df_rev.tail()"
      ],
      "metadata": {
        "id": "qQ6p86GrG93Z"
      },
      "execution_count": null,
      "outputs": []
    },
    {
      "cell_type": "markdown",
      "source": [
        "### Dataset Rows & Columns count"
      ],
      "metadata": {
        "id": "7hBIi_osiCS2"
      }
    },
    {
      "cell_type": "code",
      "source": [
        "# Dataset Rows & Columns count of play_store_data\n",
        "df_ps.shape"
      ],
      "metadata": {
        "id": "Kllu7SJgmLij"
      },
      "execution_count": null,
      "outputs": []
    },
    {
      "cell_type": "markdown",
      "source": [
        "**In the first dataset we observed that we have 10841 rows and 13 coloumns**"
      ],
      "metadata": {
        "id": "saKEWzyxGpzB"
      }
    },
    {
      "cell_type": "code",
      "source": [
        "# Dataset Rows & Columns count of user_review\n",
        "df_rev.shape"
      ],
      "metadata": {
        "id": "QTdcBfPvHHDq"
      },
      "execution_count": null,
      "outputs": []
    },
    {
      "cell_type": "markdown",
      "source": [
        "**In the second dataset we observed that we have 64295 rows and 5 coloumns**"
      ],
      "metadata": {
        "id": "EIViczchHfu9"
      }
    },
    {
      "cell_type": "markdown",
      "source": [
        "### Dataset Information"
      ],
      "metadata": {
        "id": "JlHwYmJAmNHm"
      }
    },
    {
      "cell_type": "code",
      "source": [
        "# Dataset Info of play_store_data.csv.file\n",
        "df_ps.info()"
      ],
      "metadata": {
        "id": "e9hRXRi6meOf"
      },
      "execution_count": null,
      "outputs": []
    },
    {
      "cell_type": "code",
      "source": [
        "# Dataset info of user_review.csv.file\n",
        "df_rev.info()"
      ],
      "metadata": {
        "id": "U_x25IhMHR9j"
      },
      "execution_count": null,
      "outputs": []
    },
    {
      "cell_type": "markdown",
      "source": [
        "#### Duplicate Values"
      ],
      "metadata": {
        "id": "35m5QtbWiB9F"
      }
    },
    {
      "cell_type": "code",
      "source": [
        "# Dataset Duplicate Value Count of play_stor_data.csv\n",
        "df_ps.duplicated().sum()"
      ],
      "metadata": {
        "id": "1sLdpKYkmox0"
      },
      "execution_count": null,
      "outputs": []
    },
    {
      "cell_type": "code",
      "source": [
        "# Dataset Duplicate Value Count of user_review.csv\n",
        "df_rev.duplicated().sum()"
      ],
      "metadata": {
        "id": "MltLwWjYHZ06"
      },
      "execution_count": null,
      "outputs": []
    },
    {
      "cell_type": "markdown",
      "source": [
        "#### Missing Values/Null Values"
      ],
      "metadata": {
        "id": "PoPl-ycgm1ru"
      }
    },
    {
      "cell_type": "code",
      "source": [
        "# Missing Values/Null Values Count\n",
        "df_ps.isna().sum()"
      ],
      "metadata": {
        "id": "GgHWkxvamxVg"
      },
      "execution_count": null,
      "outputs": []
    },
    {
      "cell_type": "code",
      "source": [
        "# Visualizing the missing values in playstore data.csv\n",
        "msno.bar(df_ps,\n",
        "         fontsize=11,\n",
        "         figsize=(8,5),\n",
        "         color='turquoise')\n",
        "plt.title('Missing values')\n",
        "plt.show()"
      ],
      "metadata": {
        "id": "3q5wnI3om9sJ"
      },
      "execution_count": null,
      "outputs": []
    },
    {
      "cell_type": "markdown",
      "source": [
        "Filling the Null values with the appropriate values using aggregate functions such as Mean,Median,Mode"
      ],
      "metadata": {
        "id": "VFTYXji9k2Hd"
      }
    },
    {
      "cell_type": "code",
      "source": [
        "# handling null values\n",
        "def replace_null_value(series):\n",
        "  '''replace the null values with median \n",
        "  median overall rating values\n",
        "  '''\n",
        "  return series. fillna(series.median())\n",
        "\n",
        "df_ps['Rating']=replace_null_value(df_ps['Rating'])\n",
        "df_ps['Rating']=df_ps['Rating'].astype(float)"
      ],
      "metadata": {
        "id": "KkfwY2sHHr8m"
      },
      "execution_count": null,
      "outputs": []
    },
    {
      "cell_type": "code",
      "source": [
        "# filling null value with mode of the column 'Type'.\n",
        "df_ps['Type'].fillna(str(df_ps['Type'].mode().values[0]),inplace=True)"
      ],
      "metadata": {
        "id": "YzqVc2KJHu1z"
      },
      "execution_count": null,
      "outputs": []
    },
    {
      "cell_type": "code",
      "source": [
        "# filling null value of 'Content Rating' with mode of the column\n",
        "df_ps['Content Rating'].fillna(str(df_ps['Content Rating'].mode().values[0]),inplace=True)"
      ],
      "metadata": {
        "id": "Cd5JAnapHyIn"
      },
      "execution_count": null,
      "outputs": []
    },
    {
      "cell_type": "code",
      "source": [
        "# filling null value of 'Current Ver' with mode of the column\n",
        "df_ps['Current Ver'].fillna(str(df_ps['Current Ver'].mode().values[0]),inplace=True)"
      ],
      "metadata": {
        "id": "BX_7fgDeHy3j"
      },
      "execution_count": null,
      "outputs": []
    },
    {
      "cell_type": "code",
      "source": [
        "# filling null value of 'Android Ver' with mode of the column\n",
        "df_ps['Android Ver'].fillna(str(df_ps['Android Ver'].mode().values[0]),inplace=True)"
      ],
      "metadata": {
        "id": "CiWTuE4YH4cM"
      },
      "execution_count": null,
      "outputs": []
    },
    {
      "cell_type": "code",
      "source": [
        "# Rechecking after filling all these null values\n",
        "df_ps.isna().sum()"
      ],
      "metadata": {
        "id": "AcvjOri-H7Xr"
      },
      "execution_count": null,
      "outputs": []
    },
    {
      "cell_type": "markdown",
      "source": [
        "Null values in users review.csv"
      ],
      "metadata": {
        "id": "q6ANtewsk66G"
      }
    },
    {
      "cell_type": "code",
      "source": [
        "# check on null values on 2nd CSV\n",
        "df_rev.isna().sum()"
      ],
      "metadata": {
        "id": "TurxriawH-XT"
      },
      "execution_count": null,
      "outputs": []
    },
    {
      "cell_type": "code",
      "source": [
        "# Visualizing the missing values in user reviews.csv\n",
        "msno.bar(df_rev,\n",
        "         fontsize=11,\n",
        "         figsize=(8,5),\n",
        "         color='seagreen')\n",
        "plt.title('Missing values')\n",
        "plt.show()"
      ],
      "metadata": {
        "id": "oel4WhMPIF3M"
      },
      "execution_count": null,
      "outputs": []
    },
    {
      "cell_type": "markdown",
      "source": [
        "If in any column 90% of data is missing, we drop the column. Since this is not the case with our play_store_data .csv.file , we don't drop any column but in case of user_review.csv.file we have more then 90% of missing/null values , so we are going to drop them in data cleaning and framing sector"
      ],
      "metadata": {
        "id": "6qFkthLfSpI0"
      }
    },
    {
      "cell_type": "markdown",
      "source": [
        "Handling null values "
      ],
      "metadata": {
        "id": "jcva01-1lWfz"
      }
    },
    {
      "cell_type": "code",
      "source": [
        "# Removing null values of 'Translated_Review ' \n",
        "df_rev = df_rev.dropna()"
      ],
      "metadata": {
        "id": "uqO08z9PIOci"
      },
      "execution_count": null,
      "outputs": []
    },
    {
      "cell_type": "code",
      "source": [
        "# Rechecking after removing all these null values\n",
        "df_rev.isna().sum()"
      ],
      "metadata": {
        "id": "bnGbicsmIPFZ"
      },
      "execution_count": null,
      "outputs": []
    },
    {
      "cell_type": "markdown",
      "source": [
        "### What did you know about your dataset?"
      ],
      "metadata": {
        "id": "H0kj-8xxnORC"
      }
    },
    {
      "cell_type": "markdown",
      "source": [
        "By exploring the data frame,we know that:\n",
        "\n",
        "playstore data.csv contains-\n",
        "\n",
        "* There are 13 columns of properties with 10841 rows of data.\n",
        "\n",
        "* columns 'Reviews', 'Size', 'Installs',and 'Price' are in 'object'.\n",
        "\n",
        "* values of column 'Size' are strings representing size in 'M' as Megabytes, 'K' as 'Kilobytes' and also varies with devices.\n",
        "\n",
        "* value of column 'Installs' are strings representing install amount with symbols such as ',' and '+'.\n",
        "\n",
        "* values of column 'price' are strings representing price with symbol '$'.\n",
        "\n",
        "user reviews.csv contains-\n",
        "\n",
        "* 100 reviews for each app.\n",
        "\n",
        "* most of the data in this CSV is null."
      ],
      "metadata": {
        "id": "gfoNAAC-nUe_"
      }
    },
    {
      "cell_type": "markdown",
      "source": [
        "## ***2. Understanding Your Variables***"
      ],
      "metadata": {
        "id": "nA9Y7ga8ng1Z"
      }
    },
    {
      "cell_type": "code",
      "source": [
        "# columns of dataset play store data.csv\n",
        "df_ps.columns"
      ],
      "metadata": {
        "id": "j7xfkqrt5Ag5"
      },
      "execution_count": null,
      "outputs": []
    },
    {
      "cell_type": "code",
      "source": [
        "# Dataset Describe\n",
        "df_ps.describe()"
      ],
      "metadata": {
        "id": "DnOaZdaE5Q5t"
      },
      "execution_count": null,
      "outputs": []
    },
    {
      "cell_type": "code",
      "source": [
        "# columns of dataset users review.csv\n",
        "df_rev.columns"
      ],
      "metadata": {
        "id": "nh-g8zysNUgD"
      },
      "execution_count": null,
      "outputs": []
    },
    {
      "cell_type": "code",
      "source": [
        "# dataset describe\n",
        "df_rev.describe()"
      ],
      "metadata": {
        "id": "UDBNdor6NYgi"
      },
      "execution_count": null,
      "outputs": []
    },
    {
      "cell_type": "markdown",
      "source": [
        "### Variables Description "
      ],
      "metadata": {
        "id": "PBTbrJXOngz2"
      }
    },
    {
      "cell_type": "markdown",
      "source": [
        "Variable description of Play_Store_Data .csv.file is given below :-\n",
        "\n",
        "* App name: name of the app\n",
        "\n",
        "* Category: Art_and_design, Book_and_reference, Family and business.\n",
        "\n",
        "* Rating: the current average rating (out of 5) of the app.\n",
        "\n",
        "* Review: no. of people given their review on the app.\n",
        "\n",
        "* Size:size of the app in mb ( MEGABYTES)\n",
        "\n",
        "* Installs: No. of people installed the app from google play store.\n",
        "\n",
        "* Type: wather the app is free or paid.\n",
        "\n",
        "* Price: price is given on the basis of us 4\n",
        "\n",
        "* Content Rating : it is also known as maturity rating depending upon its suitability to its audience, to show which age group is suitable to view media and entertainment.\n",
        "\n",
        "* Genres: its a kind of a category which particularly says about the app style, form and content for example weather it is artistic, musical or competetive exam or etc.\n",
        "\n",
        "* Last update: date on which it is last updated.\n",
        "\n",
        "* Current version: it means a version of the software that is currently being supported by its publisher.\n",
        "\n",
        "* Android version: it is used to describe the verious updates for the open source android mobile operating system.\n",
        "\n",
        "And the description of the other variable namely User_Review . csv.file is given below:-\n",
        "\n",
        "* App name: Name of the app on which the user review was provided .\n",
        "* Translated Review: The pre-processed user review text.\n",
        "* Sentiments: This is a review given by the user on the basis of positive , negative or neutral sentiments\n",
        "* Sentiments polarity: Sentiment score of the user review lies between [-1,1] .A higher score denotes a more positive sentiment\n",
        "* Sentiment_subjectivity: this value gives how close a reviewer's opinion is to the opinion of the general public."
      ],
      "metadata": {
        "id": "aJV4KIxSnxay"
      }
    },
    {
      "cell_type": "markdown",
      "source": [
        "### Check Unique Values for each variable."
      ],
      "metadata": {
        "id": "u3PMJOP6ngxN"
      }
    },
    {
      "cell_type": "code",
      "source": [
        "# Check Unique Values for each variable of play_store_data.csv.\n",
        "# App -\n",
        "df_ps['App'].unique()"
      ],
      "metadata": {
        "id": "zms12Yq5n-jE"
      },
      "execution_count": null,
      "outputs": []
    },
    {
      "cell_type": "code",
      "source": [
        "# category -\n",
        "df_ps['Category'].unique()"
      ],
      "metadata": {
        "id": "qNWzzxltOFqk"
      },
      "execution_count": null,
      "outputs": []
    },
    {
      "cell_type": "code",
      "source": [
        "# Rating -\n",
        "df_ps['Rating'].unique()"
      ],
      "metadata": {
        "id": "C0TI7Le0OI2k"
      },
      "execution_count": null,
      "outputs": []
    },
    {
      "cell_type": "code",
      "source": [
        "# reviews -\n",
        "df_ps['Reviews'].unique()"
      ],
      "metadata": {
        "id": "064fs5B7OMke"
      },
      "execution_count": null,
      "outputs": []
    },
    {
      "cell_type": "code",
      "source": [
        "# Size -\n",
        "df_ps['Size'].unique()"
      ],
      "metadata": {
        "id": "Elhcq7xsPuLF"
      },
      "execution_count": null,
      "outputs": []
    },
    {
      "cell_type": "code",
      "source": [
        "# Installs -\n",
        "df_ps['Installs'].unique()"
      ],
      "metadata": {
        "id": "TpfD7NKbPxW5"
      },
      "execution_count": null,
      "outputs": []
    },
    {
      "cell_type": "code",
      "source": [
        "#  type -\n",
        "df_ps['Type'].unique()"
      ],
      "metadata": {
        "id": "_X7Akl5_P0DT"
      },
      "execution_count": null,
      "outputs": []
    },
    {
      "cell_type": "code",
      "source": [
        "# Price -\n",
        "df_ps['Price'].unique()"
      ],
      "metadata": {
        "id": "CSg27FqWP2lT"
      },
      "execution_count": null,
      "outputs": []
    },
    {
      "cell_type": "code",
      "source": [
        "# content rating -\n",
        "df_ps['Content Rating'].unique()"
      ],
      "metadata": {
        "id": "gKV1QSDrP4tV"
      },
      "execution_count": null,
      "outputs": []
    },
    {
      "cell_type": "code",
      "source": [
        "#  genres -\n",
        "df_ps['Genres'].unique()"
      ],
      "metadata": {
        "id": "WPGTIIhAP7km"
      },
      "execution_count": null,
      "outputs": []
    },
    {
      "cell_type": "code",
      "source": [
        "#  Last Update -\n",
        "df_ps['Last Updated'].unique()"
      ],
      "metadata": {
        "id": "Gf-QD1JkP-UV"
      },
      "execution_count": null,
      "outputs": []
    },
    {
      "cell_type": "code",
      "source": [
        "# Current ver -\n",
        "df_ps['Current Ver'].unique()"
      ],
      "metadata": {
        "id": "l05rb0B5QBSj"
      },
      "execution_count": null,
      "outputs": []
    },
    {
      "cell_type": "code",
      "source": [
        "# Android ver -\n",
        "df_ps['Android Ver'].unique()"
      ],
      "metadata": {
        "id": "GU44iGkMQEHl"
      },
      "execution_count": null,
      "outputs": []
    },
    {
      "cell_type": "code",
      "source": [
        "# Check Unique Values for each variable of users_review.csv.\n",
        "df_rev['App'].unique()"
      ],
      "metadata": {
        "id": "XMXivWTVQiCB"
      },
      "execution_count": null,
      "outputs": []
    },
    {
      "cell_type": "code",
      "source": [
        "# Translated_Review -\n",
        "df_rev['Translated_Review'].unique()"
      ],
      "metadata": {
        "id": "W54eMo3xQt9c"
      },
      "execution_count": null,
      "outputs": []
    },
    {
      "cell_type": "code",
      "source": [
        "# Sentiment -\n",
        "df_rev['Sentiment'].unique()"
      ],
      "metadata": {
        "id": "EhpGgGM0Qz0U"
      },
      "execution_count": null,
      "outputs": []
    },
    {
      "cell_type": "code",
      "source": [
        "# Sentiment_Polarity -\n",
        "df_rev['Sentiment_Polarity'].unique()"
      ],
      "metadata": {
        "id": "MVrttaXBQ6Jn"
      },
      "execution_count": null,
      "outputs": []
    },
    {
      "cell_type": "code",
      "source": [
        "# Sentiment_Subjectivity -\n",
        "df_rev['Sentiment_Subjectivity'].unique()"
      ],
      "metadata": {
        "id": "z1eEXAlAQ_sk"
      },
      "execution_count": null,
      "outputs": []
    },
    {
      "cell_type": "markdown",
      "source": [
        "**Some data cleaning operation -**"
      ],
      "metadata": {
        "id": "Ej7TbMUSF6dI"
      }
    },
    {
      "cell_type": "markdown",
      "source": [
        "Checking how many ratings are more than 5"
      ],
      "metadata": {
        "id": "vDKwkL4DSXOK"
      }
    },
    {
      "cell_type": "code",
      "source": [
        "# rating can't be more than 5 but here is an app which is more than 5\n",
        "df_ps[df_ps['Rating']>5]"
      ],
      "metadata": {
        "id": "LWREzrh5RMiM"
      },
      "execution_count": null,
      "outputs": []
    },
    {
      "cell_type": "code",
      "source": [
        "# removing row  which has false rating rating can't be more than 5\n",
        "df_ps=df_ps.drop(df_ps.index[[10472]])"
      ],
      "metadata": {
        "id": "Ly8hUfoPRT3k"
      },
      "execution_count": null,
      "outputs": []
    },
    {
      "cell_type": "code",
      "source": [
        "#printing the rows from 10470 to 10475\n",
        "df_ps[10470:10475]"
      ],
      "metadata": {
        "id": "vgHZJHk9TSVe"
      },
      "execution_count": null,
      "outputs": []
    },
    {
      "cell_type": "code",
      "source": [
        "# clean the 'Reviews' data and change the type 'object' to 'float'\n",
        "reviews = [ i for i in df_ps['Reviews']]\n",
        "def clean_rev(reviews_list):\n",
        "  '''\n",
        "  as 'M' has been found in the Reviews data,\n",
        "  this function replace it with numeric value of million\n",
        "  '''\n",
        "  data_after_cleaning = []\n",
        "  for review in reviews_list:\n",
        "    if 'M' in review:\n",
        "      review = review.replace('M','')\n",
        "      review = float(review) * 1000000  # 1M = 10,00,000\n",
        "    data_after_cleaning.append(review)\n",
        "  return data_after_cleaning\n",
        "\n",
        "df_ps['Reviews'] = clean_rev(reviews)\n",
        "df_ps['Reviews'] = df_ps['Reviews'].astype(float)"
      ],
      "metadata": {
        "id": "rjjfz6kOTlBF"
      },
      "execution_count": null,
      "outputs": []
    },
    {
      "cell_type": "code",
      "source": [
        "# clean the 'Size' data and change the type 'object' to 'float'\n",
        "# there is a value with 1,000+ in one of record, remove it from data_fame\n",
        "df_ps['Size'] = df_ps['Size'].apply(lambda x: str(x).replace('Varies with device', '20') if 'Varies with device' in str(x) else x)\n",
        "df_ps['Size'] = df_ps['Size'].apply(lambda x: str(x).replace('M', '') if 'M' in str(x) else x)\n",
        "df_ps['Size'] = df_ps['Size'].apply(lambda x: str(x).replace(',', '') if 'M' in str(x) else x)\n",
        "df_ps['Size'] = df_ps['Size'].apply(lambda x: float(str(x).replace('k', '')) / 1000 if 'k' in str(x) else x)\n",
        "df_ps['Size'] = df_ps['Size'].apply(lambda x: float(x))"
      ],
      "metadata": {
        "id": "N3IGT7bETmFP"
      },
      "execution_count": null,
      "outputs": []
    },
    {
      "cell_type": "code",
      "source": [
        "df_ps['Size']"
      ],
      "metadata": {
        "id": "GMAvbLK8Tp0z"
      },
      "execution_count": null,
      "outputs": []
    },
    {
      "cell_type": "code",
      "source": [
        "# clean the 'Installs' data and change the type 'object' to 'float'\n",
        "df_ps['Installs'] = df_ps['Installs'].str.replace(',','')\n",
        "df_ps['Installs'] = df_ps['Installs'].str.replace('+','')\n",
        "df_ps = df_ps.astype({\"Installs\": int})"
      ],
      "metadata": {
        "id": "9rPxfFF4TtPN"
      },
      "execution_count": null,
      "outputs": []
    },
    {
      "cell_type": "code",
      "source": [
        "# clean the 'price' data and change the type 'object' to 'float\n",
        "df_ps['Price'] = df_ps['Price'].apply(lambda x : str(x).replace('$','') if '$' in str(x) else str(x))\n",
        "df_ps['Price'] = df_ps['Price'].apply(lambda x : float(x))"
      ],
      "metadata": {
        "id": "C9Iv_FCgHYVL"
      },
      "execution_count": null,
      "outputs": []
    },
    {
      "cell_type": "code",
      "source": [
        "df_ps['Price'].unique()"
      ],
      "metadata": {
        "id": "XvuOkwy3T3mk"
      },
      "execution_count": null,
      "outputs": []
    },
    {
      "cell_type": "markdown",
      "source": [
        "## 3. ***Data Wrangling***"
      ],
      "metadata": {
        "id": "dauF4eBmngu3"
      }
    },
    {
      "cell_type": "markdown",
      "source": [
        "### Data Wrangling Code"
      ],
      "metadata": {
        "id": "bKJF3rekwFvQ"
      }
    },
    {
      "cell_type": "markdown",
      "source": [
        "**UNIVARIATE ANALYSIS**"
      ],
      "metadata": {
        "id": "zNJYErhNR5G1"
      }
    },
    {
      "cell_type": "code",
      "source": [
        "# Write your code to make your dataset analysis ready.\n",
        "#Problem Statements : \n",
        "#1. which are the top categories apps as per the analysis?\n",
        "#Count the no.of apps in each category \n",
        "category_counts = df_ps[\"Category\"]. value_counts()\n",
        "category_counts"
      ],
      "metadata": {
        "id": "wk-9a2fpoLcV"
      },
      "execution_count": null,
      "outputs": []
    },
    {
      "cell_type": "code",
      "source": [
        "#2. As per Content Rating which app are ahead?\n",
        "df_ps['Content Rating'].value_counts()"
      ],
      "metadata": {
        "id": "_dE9lwCKSEh2"
      },
      "execution_count": null,
      "outputs": []
    },
    {
      "cell_type": "code",
      "source": [
        "# 3. What are the majority of the apps paid or free\n",
        "price_df = df_ps[['App','Price','Type','Rating','Size']]\n",
        "price_df.head()"
      ],
      "metadata": {
        "id": "MhjeuF_fVk9S"
      },
      "execution_count": null,
      "outputs": []
    },
    {
      "cell_type": "code",
      "source": [
        "# 4. How are the apps rating distributed?\n",
        "#Calculating app rating based on some basic statistics\n",
        "rating_mean = df_ps['Rating'].mean()\n",
        "rating_median = df_ps['Rating'].median()\n",
        "rating_mode = df_ps['Rating'].mode()\n",
        "rating_std = df_ps['Rating'].std()\n",
        "print(f\"mean:{rating_mean}, median:{rating_median}, mode:{rating_mode}, standard deviation:{rating_std}\")"
      ],
      "metadata": {
        "id": "Uz1b0hRIV5wB"
      },
      "execution_count": null,
      "outputs": []
    },
    {
      "cell_type": "code",
      "source": [
        "# 5. What is the number of installs based on category?\n",
        "categories= df_ps.groupby('Category')[\"Installs\"].sum().reset_index()\n",
        "category_installs_sum_df=categories.sort_values(by='Installs', ascending=False)\n",
        "category_installs_sum_df"
      ],
      "metadata": {
        "id": "4qhNV1WrWEBI"
      },
      "execution_count": null,
      "outputs": []
    },
    {
      "cell_type": "markdown",
      "source": [
        "**BIVARIATE ANALYSIS :-**"
      ],
      "metadata": {
        "id": "MYmhjl8JXsXP"
      }
    },
    {
      "cell_type": "code",
      "source": [
        "# PROBLEM STATEMENTS BASED ON BIVARIATE ANALYSIS:\n",
        "# 6.  Relationship between Rating and Average Reviews ?\n",
        "df_ps.corr()"
      ],
      "metadata": {
        "id": "azSQgHtRWH-W"
      },
      "execution_count": null,
      "outputs": []
    },
    {
      "cell_type": "code",
      "source": [
        "# 7. Is there is any corelation between app Reviews and Installs?\n",
        "corr_coef = df_ps[\"Reviews\"].corr(df_ps[\"Installs\"])\n",
        "print(f\"correlation coefficent between app Reviews and Installs:{corr_coef}\")"
      ],
      "metadata": {
        "id": "8Y2tJKgNWHve"
      },
      "execution_count": null,
      "outputs": []
    },
    {
      "cell_type": "code",
      "source": [
        "# 8. Is there is any correlation between Price and Rating?\n",
        "corr_coef = df_ps[\"Price\"].corr(df_ps[\"Rating\"])\n",
        "print(f\"correlation coefficient between price and rating:{corr_coef}\")"
      ],
      "metadata": {
        "id": "yfijsweAWHhm"
      },
      "execution_count": null,
      "outputs": []
    },
    {
      "cell_type": "code",
      "source": [
        "# 9.  How app and content rating are grouped?\n",
        "grouped=df_ps[['App' , 'Content Rating']]\n",
        "grouped "
      ],
      "metadata": {
        "id": "aVKIrQXgWHTx"
      },
      "execution_count": null,
      "outputs": []
    },
    {
      "cell_type": "code",
      "source": [
        "# 10. Is subjectivity and polarity proportional to each other?\n",
        "df_rev.describe()"
      ],
      "metadata": {
        "id": "itgrAeusZJ9U"
      },
      "execution_count": null,
      "outputs": []
    },
    {
      "cell_type": "markdown",
      "source": [
        "** MULTIVARIATE ANALYSIS**"
      ],
      "metadata": {
        "id": "4iX8IelrYv5A"
      }
    },
    {
      "cell_type": "code",
      "source": [
        "# PROBLEM STATEMENTS BASED ON MULTIVARIATE ANALYSIS:-\n",
        "# 11.Is there any correlation between Rating, Size, Installs, Reviews and Price?\n",
        "Rating = df_ps['Rating']\n",
        "Size = df_ps['Size']\n",
        "Installs = df_ps['Installs']\n",
        "Reviews = df_ps['Reviews']\n",
        "Price = df_ps['Price'] "
      ],
      "metadata": {
        "id": "9JysjyShWHFE"
      },
      "execution_count": null,
      "outputs": []
    },
    {
      "cell_type": "code",
      "source": [
        "df_ps.corr()"
      ],
      "metadata": {
        "id": "nra67pp6WG2B"
      },
      "execution_count": null,
      "outputs": []
    },
    {
      "cell_type": "code",
      "source": [
        "# 12. How is price trending across some categories?\n",
        "Apps_with_Highest_rev = df_ps.sort_values(by='Reviews', ascending=False).head(20)"
      ],
      "metadata": {
        "id": "a6bQxJuRWGmE"
      },
      "execution_count": null,
      "outputs": []
    },
    {
      "cell_type": "code",
      "source": [
        "Apps_with_Highest_rev"
      ],
      "metadata": {
        "id": "bUG0rm9QWFwM"
      },
      "execution_count": null,
      "outputs": []
    },
    {
      "cell_type": "markdown",
      "source": [
        "### What all manipulations have you done and insights you found?"
      ],
      "metadata": {
        "id": "MSa1f5Uengrz"
      }
    },
    {
      "cell_type": "markdown",
      "source": [
        "By using different methods and functions our cleaned data get the disered result according to problem statement and talking about insights we have found that there are category with highest share of apps,distribution of app rating,content rating and genre with most numbers,relation with app size and rating,correlation between any two or multiple variable using pairplot and heatmap. we have discussed more about particular insight according to problem statements in data visualization .\n",
        "\n"
      ],
      "metadata": {
        "id": "LbyXE7I1olp8"
      }
    },
    {
      "cell_type": "markdown",
      "source": [
        "## ***4. Data Vizualization, Storytelling & Experimenting with charts : Understand the relationships between variables***"
      ],
      "metadata": {
        "id": "GF8Ens_Soomf"
      }
    },
    {
      "cell_type": "markdown",
      "source": [
        "#### Chart - 1"
      ],
      "metadata": {
        "id": "0wOQAZs5pc--"
      }
    },
    {
      "cell_type": "code",
      "source": [
        "# Chart - 1 visualization code\n",
        "#1. which are the top categories apps as per the analysis?\n",
        "\n",
        "y = df_ps['Category'].value_counts().index\n",
        "x = df_ps['Category'].value_counts()\n",
        "xaxsis = []\n",
        "yaxsis = []\n",
        "for i in range(len(x)):\n",
        "    xaxsis.append(x[i])\n",
        "    yaxsis.append(y[i])\n",
        "plt.figure(figsize = (10,8))\n",
        "\n",
        "graph = sns.barplot(x = xaxsis, y = yaxsis, palette= \"hls\")\n",
        "graph.set_title(\"Top categories on Google Playstore\", fontsize = 25);"
      ],
      "metadata": {
        "id": "7v_ESjsspbW7"
      },
      "execution_count": null,
      "outputs": []
    },
    {
      "cell_type": "markdown",
      "source": [
        "##### 1. Why did you pick the specific chart?"
      ],
      "metadata": {
        "id": "K5QZ13OEpz2H"
      }
    },
    {
      "cell_type": "markdown",
      "source": [
        "A barplot visualises us the absolute number of apps in each category, alllowing us to quickly see which categories have the most and the least number of application. This information can be useful for making decision related tp app development or marketing as it can give insights into which categories are most and least competitive"
      ],
      "metadata": {
        "id": "XESiWehPqBRc"
      }
    },
    {
      "cell_type": "markdown",
      "source": [
        "##### 2. What is/are the insight(s) found from the chart?"
      ],
      "metadata": {
        "id": "lQ7QKXXCp7Bj"
      }
    },
    {
      "cell_type": "markdown",
      "source": [
        "Application in family categories has the highest share of active applications in the market with 1900.\n",
        "\n"
      ],
      "metadata": {
        "id": "C_j1G7yiqdRP"
      }
    },
    {
      "cell_type": "markdown",
      "source": [
        "##### 3. Will the gained insights help creating a positive business impact? \n",
        "Are there any insights that lead to negative growth? Justify with specific reason."
      ],
      "metadata": {
        "id": "448CDAPjqfQr"
      }
    },
    {
      "cell_type": "markdown",
      "source": [
        "By understanding the distribution of app categories , developers can identify which categories are most popular and competitive and tailor their application development and marketing strategies accordingly.For example , they might choose of focus on categories with a high demnad but low competitive or find ways to different their apps within highly competitive categories.\n",
        "\n",
        "On the other hand , there may be insights that can lead to negative growth ,For example if the developer discover that the category tehy are planning to discovers that the category they were targeting has a low demand or low user engagement they may need to adjust their app's features or marketing strategy to improve its appeal to users.\n",
        "\n",
        "Overall, the insights gained from analysing the given chart can have both positive or negative impacts on business growth , depending on how they are interpreted and acted upon."
      ],
      "metadata": {
        "id": "3cspy4FjqxJW"
      }
    },
    {
      "cell_type": "markdown",
      "source": [
        "#### Chart - 2"
      ],
      "metadata": {
        "id": "KSlN3yHqYklG"
      }
    },
    {
      "cell_type": "code",
      "source": [
        "# Chart - 2 visualization code\n",
        "#2. As per Content Rating which app are ahead?\n",
        "x = df_ps['Content Rating'].value_counts().index\n",
        "y = df_ps['Content Rating'].value_counts()\n",
        "\n",
        "xaxis = []\n",
        "yaxis = []\n",
        "for i in range(len(x)):\n",
        "    xaxis.append(x[i])\n",
        "    yaxis.append(y[i])\n"
      ],
      "metadata": {
        "id": "R4YgtaqtYklH"
      },
      "execution_count": null,
      "outputs": []
    },
    {
      "cell_type": "code",
      "source": [
        "plt.figure(figsize=(12,10))\n",
        "plt.bar(xaxis,yaxis,width=0.8,color=['#15244C','#FFFF48','#292734','#EF2920','#CD202D','#ECC5F2'], alpha=0.8);\n",
        "plt.title('Content Rating',size = 20);\n",
        "plt.ylabel('Apps(Count)');\n",
        "plt.xlabel('Content Rating');"
      ],
      "metadata": {
        "id": "4TZFw1UTeL7l"
      },
      "execution_count": null,
      "outputs": []
    },
    {
      "cell_type": "markdown",
      "source": [
        "##### 1. Why did you pick the specific chart?"
      ],
      "metadata": {
        "id": "t6dVpIINYklI"
      }
    },
    {
      "cell_type": "markdown",
      "source": [
        "A barpolt is a good choice for visualizing the count of apps by content rating because it show the number of apps in each category using rectangular bars , when the height of each bar represent the count of apps in that category .This allows us to easily compare the number of apps in each category and identify the category with the highest count of apps."
      ],
      "metadata": {
        "id": "5aaW0BYyYklI"
      }
    },
    {
      "cell_type": "markdown",
      "source": [
        "##### 2. What is/are the insight(s) found from the chart?"
      ],
      "metadata": {
        "id": "ijmpgYnKYklI"
      }
    },
    {
      "cell_type": "markdown",
      "source": [
        "From the barplot we can conclude that it shows the count of applications by Content Rating ,we can see that the \"Everyone\" content rating has the highest count, followed by the \"Teen\" and \"Mature 17+\" content rating .This indicates that the majority of apps in the Google Play Store are suitable for all audiences, which may reflect the overall trend of increasing adoption and usage of mobile device across different age groups."
      ],
      "metadata": {
        "id": "PSx9atu2YklI"
      }
    },
    {
      "cell_type": "markdown",
      "source": [
        "##### 3. Will the gained insights help creating a positive business impact? \n",
        "Are there any insights that lead to negative growth? Justify with specific reason."
      ],
      "metadata": {
        "id": "-JiQyfWJYklI"
      }
    },
    {
      "cell_type": "markdown",
      "source": [
        "Insight that we gained from \"EVERYONE\" content rating has the highest count in the paly store can potentially help to create a positive impact for app developers and marketers. They can use this information to make informed decision about the contet rating of their apps and tailor their marketing strategies accordingly ,for example developers are targeting a wide range of audiences can choose to rate their apps as\"EVERYONE\" to maximize their reach and increase their app's visibility.\n",
        "\n",
        "On the other hand, there are no specific insights from this analysis that would lead to negative growth. However, it is important to note that content rating is just one factor that affects the sucess of an app, and developers should consider other factors such app functionality , user interface and competition while making decision about their app's content rating."
      ],
      "metadata": {
        "id": "BcBbebzrYklV"
      }
    },
    {
      "cell_type": "markdown",
      "source": [
        "#### Chart - 3"
      ],
      "metadata": {
        "id": "EM7whBJCYoAo"
      }
    },
    {
      "cell_type": "code",
      "source": [
        "# Chart - 3 visualization code\n",
        "# 3.  Majority of the apps paid or free\n",
        "colors = ['#ff9999','#66b3ff']\n",
        "plt.figure(figsize=(8,6))\n",
        "plt.title(\"Apps on price\",fontsize=16)\n",
        "plt.pie(price_df.Type.value_counts(), \n",
        "        labels=price_df.Type.value_counts().index,\n",
        "        autopct='%1.1f%%',\n",
        "        startangle=90,      #explode=(0, 0.1))\n",
        "        explode=(0, 0.1),\n",
        "        colors=colors,\n",
        "        wedgeprops=dict(width=0.5,edgecolor='w'),\n",
        "        textprops=dict(color=\"w\",fontsize=12,weight='bold'))\n",
        "plt.legend()\n",
        "plt.show()"
      ],
      "metadata": {
        "id": "t6GMdE67YoAp"
      },
      "execution_count": null,
      "outputs": []
    },
    {
      "cell_type": "markdown",
      "source": [
        "##### 1. Why did you pick the specific chart?"
      ],
      "metadata": {
        "id": "fge-S5ZAYoAp"
      }
    },
    {
      "cell_type": "markdown",
      "source": [
        "Pie charts are often used in business. Examples include showing percentages of types of customers, percentage of revenue from different products, and profits from different countries."
      ],
      "metadata": {
        "id": "5dBItgRVYoAp"
      }
    },
    {
      "cell_type": "markdown",
      "source": [
        "##### 2. What is/are the insight(s) found from the chart?"
      ],
      "metadata": {
        "id": "85gYPyotYoAp"
      }
    },
    {
      "cell_type": "markdown",
      "source": [
        "From the plot we can imply that majority(92.6%) of the apps in the Play Store are Free apps and rest(7.4%) are paid."
      ],
      "metadata": {
        "id": "4jstXR6OYoAp"
      }
    },
    {
      "cell_type": "markdown",
      "source": [
        "##### 3. Will the gained insights help creating a positive business impact? \n",
        "Are there any insights that lead to negative growth? Justify with specific reason."
      ],
      "metadata": {
        "id": "RoGjAbkUYoAp"
      }
    },
    {
      "cell_type": "markdown",
      "source": [
        "From the above pie chart, we can draw insight that most of the apps are free (approx 92%) and paid apps (approx 7%) Listing. It may lead to fewer installations of paid apps."
      ],
      "metadata": {
        "id": "zfJ8IqMcYoAp"
      }
    },
    {
      "cell_type": "markdown",
      "source": [
        "#### Chart - 4"
      ],
      "metadata": {
        "id": "4Of9eVA-YrdM"
      }
    },
    {
      "cell_type": "code",
      "source": [
        "# Chart - 4 visualization code\n",
        "# How are the apps distributed?\n",
        "plt.figure(figsize=(15,9))\n",
        "plt.xlabel(\"Rating\")\n",
        "plt.ylabel(\"Frequency\")\n",
        "graph = sns.kdeplot(df_ps.Rating, color=\"Blue\", shade = True)\n",
        "plt.title('Distribution of Rating',size = 20);"
      ],
      "metadata": {
        "id": "irlUoxc8YrdO"
      },
      "execution_count": null,
      "outputs": []
    },
    {
      "cell_type": "markdown",
      "source": [
        "##### 1. Why did you pick the specific chart?"
      ],
      "metadata": {
        "id": "iky9q4vBYrdO"
      }
    },
    {
      "cell_type": "markdown",
      "source": [
        "Here we used Kdeplot because it is used to plot the data against a single/univariate variable. It represents the probability distribution of the data values as the area under the plotted curve , and we had shown that our applications are distributed on the basis of rating ..where vertically we measured frequency and horizonally we measured our rating of apps."
      ],
      "metadata": {
        "id": "aJRCwT6DYrdO"
      }
    },
    {
      "cell_type": "markdown",
      "source": [
        "##### 2. What is/are the insight(s) found from the chart?"
      ],
      "metadata": {
        "id": "F6T5p64dYrdO"
      }
    },
    {
      "cell_type": "markdown",
      "source": [
        "From the above graph we can come to a conclusion that most of the apps in google playstore are rated in between 3.5 to 4.8"
      ],
      "metadata": {
        "id": "Xx8WAJvtYrdO"
      }
    },
    {
      "cell_type": "markdown",
      "source": [
        "##### 3. Will the gained insights help creating a positive business impact? \n",
        "Are there any insights that lead to negative growth? Justify with specific reason."
      ],
      "metadata": {
        "id": "y-Ehk30pYrdP"
      }
    },
    {
      "cell_type": "markdown",
      "source": [
        "The insights gained from the kideplot of app rating could potentially help create a positive business impact by proving insights into user preferences and behaviour in the app marketplace.For example , if the kideplot shows that a large number of apps have rating between 3.5 and 4.8, it suggests that this is a popular rating range among users. This information could be used by app developers and marketers to tailor their products and marketing strategies to better meet user preferences and drive user engagement.\n",
        "\n",
        "However,there could also be insights gained from the kideplot that could lead to negative growth if not addressed properly.For instance, if the kideplot shows a large number of apps with low ratings(e.g less than 3.0), it suggests that there may be issues with app quality or user experience that need to be addressed. If these issues, are not addressed, it could lead to negative reviews, decreased user engagement and ulimately it will give us negative revenue .\n",
        "\n",
        "Hence,its important to carefully analyze the insights gained from a kideplot of app rating and take action where it is necessary to address any issues that could negatively impact business growth."
      ],
      "metadata": {
        "id": "jLNxxz7MYrdP"
      }
    },
    {
      "cell_type": "markdown",
      "source": [
        "#### Chart - 5"
      ],
      "metadata": {
        "id": "bamQiAODYuh1"
      }
    },
    {
      "cell_type": "code",
      "source": [
        "# Chart - 5 visualization code\n",
        "# 5. What is the number of installs based on category ?\n",
        "plt.figure(figsize=(20, 6))\n",
        "sns.barplot(x='Category', y='Installs', data=category_installs_sum_df)\n",
        "plt.xticks(rotation=90)\n",
        "plt.xlabel(\"Category\",fontsize=16)\n",
        "plt.ylabel('Installs (e+10)',fontsize=16)\n",
        "plt.title('Number of Installs For Each Category',fontsize=16)\n",
        "plt.show()"
      ],
      "metadata": {
        "id": "TIJwrbroYuh3"
      },
      "execution_count": null,
      "outputs": []
    },
    {
      "cell_type": "markdown",
      "source": [
        "##### 1. Why did you pick the specific chart?"
      ],
      "metadata": {
        "id": "QHF8YVU7Yuh3"
      }
    },
    {
      "cell_type": "markdown",
      "source": [
        "Bar plots are a type of data visualization used to represent data in the form of rectangular bars. The height of each bar represents the value of a data point, and the width of each bar represents the category of the data. Here we have measured category vertically and we have measured installs horizontally to get perfect results."
      ],
      "metadata": {
        "id": "dcxuIMRPYuh3"
      }
    },
    {
      "cell_type": "markdown",
      "source": [
        "##### 2. What is/are the insight(s) found from the chart?"
      ],
      "metadata": {
        "id": "GwzvFGzlYuh3"
      }
    },
    {
      "cell_type": "markdown",
      "source": [
        "From this distribution plotting of number of installs for each category, we can see that most of the apps being downloaded and installed are from the categories of 'Game' and 'Communication'.\n",
        "\n",
        "From the above two plots we can conclude that, maximum number of apps present in google play store comes under Family, Games and Tools Category but as per the installations and requirements in the market place, this is not the case. Maximum installed apps comes under Games, Communication and Tools."
      ],
      "metadata": {
        "id": "uyqkiB8YYuh3"
      }
    },
    {
      "cell_type": "markdown",
      "source": [
        "##### 3. Will the gained insights help creating a positive business impact? \n",
        "Are there any insights that lead to negative growth? Justify with specific reason."
      ],
      "metadata": {
        "id": "qYpmQ266Yuh3"
      }
    },
    {
      "cell_type": "markdown",
      "source": [
        "From the above visualization, we can say that it is profitable to list a game on the play store but in the category like event and beauty it may lead a negative growth of business and apps."
      ],
      "metadata": {
        "id": "_WtzZ_hCYuh4"
      }
    },
    {
      "cell_type": "markdown",
      "source": [
        "#### Chart - 6\n",
        "####  CORRELATION HEATMAP :-"
      ],
      "metadata": {
        "id": "OH-pJp9IphqM"
      }
    },
    {
      "cell_type": "code",
      "source": [
        "# Chart - 6 visualization code\n",
        "# 6. What is the  relationship between Rating and Average Reviews ?\n",
        "plt.figure(figsize=(10,7))\n",
        "sns.heatmap(df_ps.corr(),annot=True)"
      ],
      "metadata": {
        "id": "kuRf4wtuphqN"
      },
      "execution_count": null,
      "outputs": []
    },
    {
      "cell_type": "markdown",
      "source": [
        "##### 1. Why did you pick the specific chart?"
      ],
      "metadata": {
        "id": "bbFf2-_FphqN"
      }
    },
    {
      "cell_type": "markdown",
      "source": [
        "Using a heatmap to visualise a confusion matrix, time-series movements, temperature changes, correlation matrix and SHAP interaction values. Heatmaps can bring your data to life. Versatile and eye-catching, and also its makes patterns easily readable and highlights the differences and variations in the same data."
      ],
      "metadata": {
        "id": "loh7H2nzphqN"
      }
    },
    {
      "cell_type": "markdown",
      "source": [
        "##### 2. What is/are the insight(s) found from the chart?"
      ],
      "metadata": {
        "id": "_ouA3fa0phqN"
      }
    },
    {
      "cell_type": "markdown",
      "source": [
        "From our heatmap, we can visualize the correlation of the variables. some visualizations from the map are -\n",
        "\n",
        "1-The correlation between reviews and price is very low\n",
        "\n",
        "2-The correlation between reviews and installation is very high\n",
        "\n",
        "3- The moderate correlation variables are price vs rating, rating vs installation\n",
        "\n",
        "4-The very low correlation between price, reviews, and installs."
      ],
      "metadata": {
        "id": "VECbqPI7phqN"
      }
    },
    {
      "cell_type": "markdown",
      "source": [
        "##### 3. Will the gained insights help creating a positive business impact? \n",
        "Are there any insights that lead to negative growth? Justify with specific reason."
      ],
      "metadata": {
        "id": "Seke61FWphqN"
      }
    },
    {
      "cell_type": "markdown",
      "source": [
        "From the above heatmap, we can say that the correlation between Installation, size, and reviews of the apps gain a positive impact on business, and the relation between price, Installation, and Reviews has a negative or less positive impact on business"
      ],
      "metadata": {
        "id": "DW4_bGpfphqN"
      }
    },
    {
      "cell_type": "markdown",
      "source": [
        "#### Chart - 7"
      ],
      "metadata": {
        "id": "PIIx-8_IphqN"
      }
    },
    {
      "cell_type": "code",
      "source": [
        "# Chart - 7 visualization code\n",
        "#Is there is any corelation between app Reviews and Installs?\n",
        "plt.figure(figsize=(10,6))\n",
        "sns.scatterplot(x=\"Size\", y=\"Rating\", data=df_ps,color ='purple')\n",
        "plt.xlabel(\"Reviews\")\n",
        "plt.ylabel(\"Installs\")\n",
        "plt.title('Correlation between Reviews and Installs in Play Store')\n",
        "plt.show()"
      ],
      "metadata": {
        "id": "lqAIGUfyphqO"
      },
      "execution_count": null,
      "outputs": []
    },
    {
      "cell_type": "markdown",
      "source": [
        "##### 1. Why did you pick the specific chart?"
      ],
      "metadata": {
        "id": "t27r6nlMphqO"
      }
    },
    {
      "cell_type": "markdown",
      "source": [
        "Scatter plot are use to visualize the correlation between Review and installs because it's a commonly used plot for visualizing the relationship between two continuous variables. In a scatter plot, each point represents a combination of values for the two variables being compared, and the position of the point on the plot indicates the value of the two variables for that observation. If there's a strong positive correlation between Review and installs, we would expect to see the points trend upward from left to right. If there's a strong negative correlation, we would expect to see the points trend downward from left to right. If there's no correlation, we would expect to see the points scattered randomly throughout the plot.\n",
        "\n"
      ],
      "metadata": {
        "id": "iv6ro40sphqO"
      }
    },
    {
      "cell_type": "markdown",
      "source": [
        "##### 2. What is/are the insight(s) found from the chart?"
      ],
      "metadata": {
        "id": "r2jJGEOYphqO"
      }
    },
    {
      "cell_type": "markdown",
      "source": [
        "There is no strong correlation between Review and Installs, the scatter plot shows that the points are scattered randomly throughout the plot, with no clear trend or pattern. This suggests that there is no strong correlation between Reviews and Installs in the dataset.\n",
        "\n",
        "Most apps have a rating between 4.0 to 5.0 ,which means the majority of the points on the y-axis (rating) fall between 4 and 5, indicating that most apps in the dataset have a high rating."
      ],
      "metadata": {
        "id": "Po6ZPi4hphqO"
      }
    },
    {
      "cell_type": "markdown",
      "source": [
        "##### 3. Will the gained insights help creating a positive business impact? \n",
        "Are there any insights that lead to negative growth? Justify with specific reason."
      ],
      "metadata": {
        "id": "b0JNsNcRphqO"
      }
    },
    {
      "cell_type": "markdown",
      "source": [
        "From the above insights we can get both kind of impact or growth (positive or negative) if we see from business point of view , so here we will discuss both the impacts i.e. positive impact and then negative impact on business:-\n",
        "\n",
        "Positive impact:\n",
        "\n",
        "If the business is interested in reviewing those apps that still have a low installation, the scatter plot suggests that this is possible, as there are many apps in the dataset with low installation and average reviews. If the business is interested in best reviews with a high installation, they may need to investigate the outliers in the dataset that have best reviews but still maintain a high installation to understand what factors contribute to their success.\n",
        "\n",
        "Negative impact:\n",
        "\n",
        "If the business is focused on reviewing those apps that are guaranteed to have high installation, the scatter plot suggests that there is no clear correlation between review and installs, and the business may need to consider other factors that contribute to high installation. If the business assumes that more reviews are inherently better and therefore dedicates more resources to developing more apps, they may be overlooking the potential for best apps with high installation to be successful and miss out on opportunities to develop smaller, more efficient apps."
      ],
      "metadata": {
        "id": "xvSq8iUTphqO"
      }
    },
    {
      "cell_type": "markdown",
      "source": [
        "#### Chart - 8"
      ],
      "metadata": {
        "id": "BZR9WyysphqO"
      }
    },
    {
      "cell_type": "code",
      "source": [
        "# Chart - 8 visualization code\n",
        "# 8.  Is subjectivity and polarity proportional to each other?\n",
        "my_colors = [\"#FF6F61\",\"#0000FF\",\"#FFD166\"]    \n",
        "plt.figure(figsize=(14,7))\n",
        "sns.scatterplot(data=df_rev,x='Sentiment_Subjectivity', y='Sentiment_Polarity',hue=\"Sentiment\",palette=my_colors)\n",
        "plt.title(\"Does sentiment_subjectivity proportional to sentiment_polarity\",fontsize=16)\n",
        "plt.show()"
      ],
      "metadata": {
        "id": "TdPTWpAVphqO"
      },
      "execution_count": null,
      "outputs": []
    },
    {
      "cell_type": "markdown",
      "source": [
        "##### 1. Why did you pick the specific chart?"
      ],
      "metadata": {
        "id": "jj7wYXLtphqO"
      }
    },
    {
      "cell_type": "markdown",
      "source": [],
      "metadata": {
        "id": "Ob8u6rCTphqO"
      }
    },
    {
      "cell_type": "markdown",
      "source": [
        "##### 2. What is/are the insight(s) found from the chart?"
      ],
      "metadata": {
        "id": "eZrbJ2SmphqO"
      }
    },
    {
      "cell_type": "markdown",
      "source": [
        "Answer Here"
      ],
      "metadata": {
        "id": "mZtgC_hjphqO"
      }
    },
    {
      "cell_type": "markdown",
      "source": [
        "##### 3. Will the gained insights help creating a positive business impact? \n",
        "Are there any insights that lead to negative growth? Justify with specific reason."
      ],
      "metadata": {
        "id": "rFu4xreNphqO"
      }
    },
    {
      "cell_type": "markdown",
      "source": [
        "Answer Here"
      ],
      "metadata": {
        "id": "ey_0qi68phqO"
      }
    },
    {
      "cell_type": "markdown",
      "source": [
        "#### Chart - 9"
      ],
      "metadata": {
        "id": "YJ55k-q6phqO"
      }
    },
    {
      "cell_type": "code",
      "source": [
        "# Chart - 9 visualization code"
      ],
      "metadata": {
        "id": "B2aS4O1ophqO"
      },
      "execution_count": null,
      "outputs": []
    },
    {
      "cell_type": "markdown",
      "source": [
        "##### 1. Why did you pick the specific chart?"
      ],
      "metadata": {
        "id": "gCFgpxoyphqP"
      }
    },
    {
      "cell_type": "markdown",
      "source": [
        "Answer Here."
      ],
      "metadata": {
        "id": "TVxDimi2phqP"
      }
    },
    {
      "cell_type": "markdown",
      "source": [
        "##### 2. What is/are the insight(s) found from the chart?"
      ],
      "metadata": {
        "id": "OVtJsKN_phqQ"
      }
    },
    {
      "cell_type": "markdown",
      "source": [
        "Answer Here"
      ],
      "metadata": {
        "id": "ngGi97qjphqQ"
      }
    },
    {
      "cell_type": "markdown",
      "source": [
        "##### 3. Will the gained insights help creating a positive business impact? \n",
        "Are there any insights that lead to negative growth? Justify with specific reason."
      ],
      "metadata": {
        "id": "lssrdh5qphqQ"
      }
    },
    {
      "cell_type": "markdown",
      "source": [
        "Answer Here"
      ],
      "metadata": {
        "id": "tBpY5ekJphqQ"
      }
    },
    {
      "cell_type": "markdown",
      "source": [
        "#### Chart - 10"
      ],
      "metadata": {
        "id": "U2RJ9gkRphqQ"
      }
    },
    {
      "cell_type": "code",
      "source": [
        "# Chart - 10 visualization code"
      ],
      "metadata": {
        "id": "GM7a4YP4phqQ"
      },
      "execution_count": null,
      "outputs": []
    },
    {
      "cell_type": "markdown",
      "source": [
        "##### 1. Why did you pick the specific chart?"
      ],
      "metadata": {
        "id": "1M8mcRywphqQ"
      }
    },
    {
      "cell_type": "markdown",
      "source": [
        "Answer Here."
      ],
      "metadata": {
        "id": "8agQvks0phqQ"
      }
    },
    {
      "cell_type": "markdown",
      "source": [
        "##### 2. What is/are the insight(s) found from the chart?"
      ],
      "metadata": {
        "id": "tgIPom80phqQ"
      }
    },
    {
      "cell_type": "markdown",
      "source": [
        "Answer Here"
      ],
      "metadata": {
        "id": "Qp13pnNzphqQ"
      }
    },
    {
      "cell_type": "markdown",
      "source": [
        "##### 3. Will the gained insights help creating a positive business impact? \n",
        "Are there any insights that lead to negative growth? Justify with specific reason."
      ],
      "metadata": {
        "id": "JMzcOPDDphqR"
      }
    },
    {
      "cell_type": "markdown",
      "source": [
        "Answer Here"
      ],
      "metadata": {
        "id": "R4Ka1PC2phqR"
      }
    },
    {
      "cell_type": "markdown",
      "source": [
        "#### Chart - 11"
      ],
      "metadata": {
        "id": "x-EpHcCOp1ci"
      }
    },
    {
      "cell_type": "code",
      "source": [
        "# Chart - 11 visualization code"
      ],
      "metadata": {
        "id": "mAQTIvtqp1cj"
      },
      "execution_count": null,
      "outputs": []
    },
    {
      "cell_type": "markdown",
      "source": [
        "##### 1. Why did you pick the specific chart?"
      ],
      "metadata": {
        "id": "X_VqEhTip1ck"
      }
    },
    {
      "cell_type": "markdown",
      "source": [
        "Answer Here."
      ],
      "metadata": {
        "id": "-vsMzt_np1ck"
      }
    },
    {
      "cell_type": "markdown",
      "source": [
        "##### 2. What is/are the insight(s) found from the chart?"
      ],
      "metadata": {
        "id": "8zGJKyg5p1ck"
      }
    },
    {
      "cell_type": "markdown",
      "source": [
        "Answer Here"
      ],
      "metadata": {
        "id": "ZYdMsrqVp1ck"
      }
    },
    {
      "cell_type": "markdown",
      "source": [
        "##### 3. Will the gained insights help creating a positive business impact? \n",
        "Are there any insights that lead to negative growth? Justify with specific reason."
      ],
      "metadata": {
        "id": "PVzmfK_Ep1ck"
      }
    },
    {
      "cell_type": "markdown",
      "source": [
        "Answer Here"
      ],
      "metadata": {
        "id": "druuKYZpp1ck"
      }
    },
    {
      "cell_type": "markdown",
      "source": [
        "#### Chart - 12"
      ],
      "metadata": {
        "id": "n3dbpmDWp1ck"
      }
    },
    {
      "cell_type": "code",
      "source": [
        "# Chart - 12 visualization code"
      ],
      "metadata": {
        "id": "bwevp1tKp1ck"
      },
      "execution_count": null,
      "outputs": []
    },
    {
      "cell_type": "markdown",
      "source": [
        "##### 1. Why did you pick the specific chart?"
      ],
      "metadata": {
        "id": "ylSl6qgtp1ck"
      }
    },
    {
      "cell_type": "markdown",
      "source": [
        "Answer Here."
      ],
      "metadata": {
        "id": "m2xqNkiQp1ck"
      }
    },
    {
      "cell_type": "markdown",
      "source": [
        "##### 2. What is/are the insight(s) found from the chart?"
      ],
      "metadata": {
        "id": "ZWILFDl5p1ck"
      }
    },
    {
      "cell_type": "markdown",
      "source": [
        "Answer Here"
      ],
      "metadata": {
        "id": "x-lUsV2mp1ck"
      }
    },
    {
      "cell_type": "markdown",
      "source": [
        "##### 3. Will the gained insights help creating a positive business impact? \n",
        "Are there any insights that lead to negative growth? Justify with specific reason."
      ],
      "metadata": {
        "id": "M7G43BXep1ck"
      }
    },
    {
      "cell_type": "markdown",
      "source": [
        "Answer Here"
      ],
      "metadata": {
        "id": "5wwDJXsLp1cl"
      }
    },
    {
      "cell_type": "markdown",
      "source": [
        "#### Chart - 13"
      ],
      "metadata": {
        "id": "Ag9LCva-p1cl"
      }
    },
    {
      "cell_type": "code",
      "source": [
        "# Chart - 13 visualization code"
      ],
      "metadata": {
        "id": "EUfxeq9-p1cl"
      },
      "execution_count": null,
      "outputs": []
    },
    {
      "cell_type": "markdown",
      "source": [
        "##### 1. Why did you pick the specific chart?"
      ],
      "metadata": {
        "id": "E6MkPsBcp1cl"
      }
    },
    {
      "cell_type": "markdown",
      "source": [
        "Answer Here."
      ],
      "metadata": {
        "id": "V22bRsFWp1cl"
      }
    },
    {
      "cell_type": "markdown",
      "source": [
        "##### 2. What is/are the insight(s) found from the chart?"
      ],
      "metadata": {
        "id": "2cELzS2fp1cl"
      }
    },
    {
      "cell_type": "markdown",
      "source": [
        "Answer Here"
      ],
      "metadata": {
        "id": "ozQPc2_Ip1cl"
      }
    },
    {
      "cell_type": "markdown",
      "source": [
        "##### 3. Will the gained insights help creating a positive business impact? \n",
        "Are there any insights that lead to negative growth? Justify with specific reason."
      ],
      "metadata": {
        "id": "3MPXvC8up1cl"
      }
    },
    {
      "cell_type": "markdown",
      "source": [
        "Answer Here"
      ],
      "metadata": {
        "id": "GL8l1tdLp1cl"
      }
    },
    {
      "cell_type": "markdown",
      "source": [
        "#### Chart - 14 - Correlation Heatmap"
      ],
      "metadata": {
        "id": "NC_X3p0fY2L0"
      }
    },
    {
      "cell_type": "code",
      "source": [
        "# Correlation Heatmap visualization code"
      ],
      "metadata": {
        "id": "xyC9zolEZNRQ"
      },
      "execution_count": null,
      "outputs": []
    },
    {
      "cell_type": "markdown",
      "source": [
        "##### 1. Why did you pick the specific chart?"
      ],
      "metadata": {
        "id": "UV0SzAkaZNRQ"
      }
    },
    {
      "cell_type": "markdown",
      "source": [
        "Answer Here."
      ],
      "metadata": {
        "id": "DVPuT8LYZNRQ"
      }
    },
    {
      "cell_type": "markdown",
      "source": [
        "##### 2. What is/are the insight(s) found from the chart?"
      ],
      "metadata": {
        "id": "YPEH6qLeZNRQ"
      }
    },
    {
      "cell_type": "markdown",
      "source": [
        "Answer Here"
      ],
      "metadata": {
        "id": "bfSqtnDqZNRR"
      }
    },
    {
      "cell_type": "markdown",
      "source": [
        "#### Chart - 15 - Pair Plot "
      ],
      "metadata": {
        "id": "q29F0dvdveiT"
      }
    },
    {
      "cell_type": "code",
      "source": [
        "# Pair Plot visualization code"
      ],
      "metadata": {
        "id": "o58-TEIhveiU"
      },
      "execution_count": null,
      "outputs": []
    },
    {
      "cell_type": "markdown",
      "source": [
        "##### 1. Why did you pick the specific chart?"
      ],
      "metadata": {
        "id": "EXh0U9oCveiU"
      }
    },
    {
      "cell_type": "markdown",
      "source": [
        "Answer Here."
      ],
      "metadata": {
        "id": "eMmPjTByveiU"
      }
    },
    {
      "cell_type": "markdown",
      "source": [
        "##### 2. What is/are the insight(s) found from the chart?"
      ],
      "metadata": {
        "id": "22aHeOlLveiV"
      }
    },
    {
      "cell_type": "markdown",
      "source": [
        "Answer Here"
      ],
      "metadata": {
        "id": "uPQ8RGwHveiV"
      }
    },
    {
      "cell_type": "markdown",
      "source": [
        "## **5. Solution to Business Objective**"
      ],
      "metadata": {
        "id": "JcMwzZxoAimU"
      }
    },
    {
      "cell_type": "markdown",
      "source": [
        "#### What do you suggest the client to achieve Business Objective ? \n",
        "Explain Briefly."
      ],
      "metadata": {
        "id": "8G2x9gOozGDZ"
      }
    },
    {
      "cell_type": "markdown",
      "source": [
        "Answer Here."
      ],
      "metadata": {
        "id": "pASKb0qOza21"
      }
    },
    {
      "cell_type": "markdown",
      "source": [
        "# **Conclusion**"
      ],
      "metadata": {
        "id": "gCX9965dhzqZ"
      }
    },
    {
      "cell_type": "markdown",
      "source": [
        "Write the conclusion here."
      ],
      "metadata": {
        "id": "Fjb1IsQkh3yE"
      }
    },
    {
      "cell_type": "markdown",
      "source": [
        "### ***Hurrah! You have successfully completed your EDA Capstone Project !!!***"
      ],
      "metadata": {
        "id": "gIfDvo9L0UH2"
      }
    }
  ]
}